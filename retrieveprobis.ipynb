{
 "cells": [
  {
   "cell_type": "code",
   "execution_count": 170,
   "metadata": {},
   "outputs": [
    {
     "name": "stdout",
     "output_type": "stream",
     "text": [
      "1: 101m  2: A  3: [<Residue ILE het=  resseq=28 icode= >, <Residue LEU het=  resseq=29 icode= >, <Residue LEU het=  resseq=32 icode= >, <Residue PHE het=  resseq=33 icode= >, <Residue PHE het=  resseq=43 icode= >, <Residue ARG het=  resseq=45 icode= >, <Residue HIS het=  resseq=64 icode= >, <Residue GLY het=  resseq=65 icode= >, <Residue THR het=  resseq=67 icode= >, <Residue VAL het=  resseq=68 icode= >, <Residue LEU het=  resseq=69 icode= >, <Residue ALA het=  resseq=71 icode= >, <Residue LEU het=  resseq=72 icode= >, <Residue LEU het=  resseq=89 icode= >, <Residue SER het=  resseq=92 icode= >, <Residue HIS het=  resseq=93 icode= >, <Residue HIS het=  resseq=97 icode= >, <Residue ILE het=  resseq=99 icode= >, <Residue TYR het=  resseq=103 icode= >, <Residue LEU het=  resseq=104 icode= >, <Residue ILE het=  resseq=107 icode= >, <Residue SER het=  resseq=108 icode= >, <Residue LEU het=  resseq=135 icode= >, <Residue PHE het=  resseq=138 icode= >, <Residue ILE het=  resseq=142 icode= >, <Residue TYR het=  resseq=146 icode= >] 4: [28, 29, 32, 33, 43, 45, 64, 65, 67, 68, 69, 71, 72, 89, 92, 93, 97, 99, 103, 104, 107, 108, 135, 138, 142, 146]\n",
      "End of file\n",
      "1: 9xim  2: A  3: [<Residue TRP het=  resseq=16 icode= >, <Residue HIS het=  resseq=54 icode= >, <Residue MET het=  resseq=88 icode= >, <Residue THR het=  resseq=90 icode= >, <Residue THR het=  resseq=91 icode= >, <Residue PHE het=  resseq=94 icode= >, <Residue VAL het=  resseq=135 icode= >, <Residue LEU het=  resseq=136 icode= >, <Residue TRP het=  resseq=137 icode= >, <Residue GLU het=  resseq=181 icode= >, <Residue LYS het=  resseq=183 icode= >, <Residue ASN het=  resseq=215 icode= >, <Residue GLU het=  resseq=217 icode= >, <Residue HIS het=  resseq=220 icode= >, <Residue ASP het=  resseq=245 icode= >, <Residue ASP het=  resseq=255 icode= >, <Residue ASP het=  resseq=257 icode= >, <Residue HIS het=  resseq=290 icode= >, <Residue ASP het=  resseq=292 icode= >] 4: [16, 54, 88, 90, 91, 94, 135, 136, 137, 181, 183, 215, 217, 220, 245, 255, 257, 290, 292]\n",
      "End of file\n"
     ]
    },
    {
     "data": {
      "text/html": [
       "<div>\n",
       "<style scoped>\n",
       "    .dataframe tbody tr th:only-of-type {\n",
       "        vertical-align: middle;\n",
       "    }\n",
       "\n",
       "    .dataframe tbody tr th {\n",
       "        vertical-align: top;\n",
       "    }\n",
       "\n",
       "    .dataframe thead th {\n",
       "        text-align: right;\n",
       "    }\n",
       "</style>\n",
       "<table border=\"1\" class=\"dataframe\">\n",
       "  <thead>\n",
       "    <tr style=\"text-align: right;\">\n",
       "      <th></th>\n",
       "      <th>PDB ID</th>\n",
       "      <th>Chain ID</th>\n",
       "      <th>Sequence ID's of binding site residues</th>\n",
       "    </tr>\n",
       "  </thead>\n",
       "  <tbody>\n",
       "    <tr>\n",
       "      <th>0</th>\n",
       "      <td>101m</td>\n",
       "      <td>A</td>\n",
       "      <td>[28, 29, 32, 33, 43, 45, 64, 65, 67, 68, 69, 7...</td>\n",
       "    </tr>\n",
       "    <tr>\n",
       "      <th>1</th>\n",
       "      <td>9xim</td>\n",
       "      <td>A</td>\n",
       "      <td>[16, 54, 88, 90, 91, 94, 135, 136, 137, 181, 1...</td>\n",
       "    </tr>\n",
       "  </tbody>\n",
       "</table>\n",
       "</div>"
      ],
      "text/plain": [
       "  PDB ID Chain ID             Sequence ID's of binding site residues\n",
       "0   101m        A  [28, 29, 32, 33, 43, 45, 64, 65, 67, 68, 69, 7...\n",
       "1   9xim        A  [16, 54, 88, 90, 91, 94, 135, 136, 137, 181, 1..."
      ]
     },
     "metadata": {},
     "output_type": "display_data"
    }
   ],
   "source": [
    "#testing multiple pdb, cen files\n",
    "#Retrieve PDB ID, Chain ID, Residue ID for residues <x angstroms from binding site centroid for each chain in protein\n",
    "\n",
    "import numpy as np\n",
    "import pandas as pd\n",
    "import warnings\n",
    "import Bio\n",
    "from Bio.PDB import *\n",
    "from Bio.PDB.PDBExceptions import PDBConstructionWarning\n",
    "from glob import glob\n",
    "parser = PDBParser(PERMISSIVE=True)\n",
    "warnings.simplefilter('ignore', PDBConstructionWarning)\n",
    "\n",
    "#probisdf = pd.DataFrame(columns=['PDB ID', 'Chain ID', 'Binding site residues'])\n",
    "full_list = []\n",
    "\n",
    "#sort pdb, cen files\n",
    "pdb_files = glob('/Users/akshome/Downloads/receptor*.pdb')\n",
    "pdb_files.sort()\n",
    "cen_files = glob('/Users/akshome/Downloads/probisdock*.cen')\n",
    "cen_files.sort()\n",
    "\n",
    "\n",
    "for i,j in zip(pdb_files, cen_files):\n",
    "     #create list for each binding site centroid, all stored in a big list\n",
    "     cen_array = []\n",
    "     with open(str(j), 'r') as file:\n",
    "          contents = file.readlines()\n",
    "          for line in contents:\n",
    "               sample = str(line).split('\\t')\n",
    "               sample_arr = list(sample)\n",
    "               del sample_arr[-1]\n",
    "               cen_array.append(sample_arr)\n",
    "          del cen_array[0]\n",
    "     cen_array\n",
    "\n",
    "#if __name__ == \"__main__\":\n",
    "     #pdb_files = glob('/Users/akshome/Downloads/receptor*.pdb')\n",
    "     #for fileName in pdb_files:\n",
    "     structure_id = i.rsplit('/', 1)[1][:-4]\n",
    "     structure = parser.get_structure(structure_id, i)[0]\n",
    "     #print(list(structure))\n",
    "     pdb_code = structure_id.rsplit('_', -1)[1]\n",
    "     #for chain in structure.get_chains():\n",
    "     atoms = Bio.PDB.Selection.unfold_entities(structure, 'A')\n",
    "     ns = Bio.PDB.NeighborSearch(atoms)\n",
    "     res_list = []\n",
    "     seq_list = []\n",
    "     for item in cen_array:\n",
    "          x,y,z = item[1:4]\n",
    "          close_res = ns.search(np.array([x,y,z], float), float(item[4]), level='R')\n",
    "          res_list.extend(close_res)\n",
    "          for residue in close_res:\n",
    "               resseq = residue.get_full_id()[3][1]\n",
    "               seq_list.append(resseq)\n",
    "     seq_list = sorted(set(seq_list))\n",
    "     res_list = sorted(set(res_list))\n",
    "     dflist = [pdb_code, chain.id, res_list, seq_list]\n",
    "     full_list.append(dflist)\n",
    "     print(f\"1: {pdb_code}  2: {chain.id}  3: {res_list} 4: {seq_list}\")\n",
    "     print('End of file')\n",
    "probisdf = pd.DataFrame(\n",
    "     [i[0], i[1], i[3]] for i in full_list\n",
    ")\n",
    "probisdf = probisdf.rename({0: 'PDB ID', 1: 'Chain ID', 2: 'Sequence ID\\'s of binding site residues'}, axis='columns')\n",
    "display(probisdf)\n",
    "     #print(type(pdb_code), type(chain.id), type(res_list))\n",
    "\n",
    "\n"
   ]
  }
 ],
 "metadata": {
  "kernelspec": {
   "display_name": "Python 3.9.6 64-bit",
   "language": "python",
   "name": "python3"
  },
  "language_info": {
   "codemirror_mode": {
    "name": "ipython",
    "version": 3
   },
   "file_extension": ".py",
   "mimetype": "text/x-python",
   "name": "python",
   "nbconvert_exporter": "python",
   "pygments_lexer": "ipython3",
   "version": "3.12.1"
  },
  "orig_nbformat": 4,
  "vscode": {
   "interpreter": {
    "hash": "aee8b7b246df8f9039afb4144a1f6fd8d2ca17a180786b69acc140d282b71a49"
   }
  }
 },
 "nbformat": 4,
 "nbformat_minor": 2
}
